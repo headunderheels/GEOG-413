{
  "nbformat": 4,
  "nbformat_minor": 0,
  "metadata": {
    "colab": {
      "provenance": [],
      "include_colab_link": true
    },
    "kernelspec": {
      "name": "python3",
      "display_name": "Python 3"
    },
    "language_info": {
      "name": "python"
    }
  },
  "cells": [
    {
      "cell_type": "markdown",
      "metadata": {
        "id": "view-in-github",
        "colab_type": "text"
      },
      "source": [
        "<a href=\"https://colab.research.google.com/github/headunderheels/GEOG-413/blob/main/Lab1_20240828.ipynb\" target=\"_parent\"><img src=\"https://colab.research.google.com/assets/colab-badge.svg\" alt=\"Open In Colab\"/></a>"
      ]
    },
    {
      "cell_type": "markdown",
      "source": [
        "# Lab 1: Getting Comfortable with Earth Engine"
      ],
      "metadata": {
        "id": "8IwDqr4cQVYO"
      }
    },
    {
      "cell_type": "markdown",
      "source": [
        "**Micah Hillman**"
      ],
      "metadata": {
        "id": "mGwYIyzXLH6s"
      }
    },
    {
      "cell_type": "code",
      "source": [
        "from datetime import datetime\n",
        "\n",
        "now = datetime.now()\n",
        "print(f\"Submitted time: {now}\")"
      ],
      "metadata": {
        "id": "8GwqeG0ILyK2",
        "colab": {
          "base_uri": "https://localhost:8080/"
        },
        "outputId": "d242ec7e-b763-4a44-e095-b4eae9d39e89"
      },
      "execution_count": 3,
      "outputs": [
        {
          "output_type": "stream",
          "name": "stdout",
          "text": [
            "Submitted time: 2024-08-28 14:43:00.304965\n"
          ]
        }
      ]
    },
    {
      "cell_type": "markdown",
      "source": [
        "While you can use the Earth Engine Code Editor to visualize and get statistics on earth imagery, Dr. Qiusheng Wu's Geemap package is a powerful, more practical open-source option for remote sensing work. Rather than using JavaScript, this package leverages the Python library's superior computing capabilities. Additionally, there is a trove of instructional videos and tutorials on the [Geemap Website](https://geemap.org/).\n",
        "\n",
        "There are a total of 4 conceptual questions, worth 60 points altogether and a challenge question at the end of the document worth 40 points."
      ],
      "metadata": {
        "id": "dYzkRFJeQ9JN"
      }
    },
    {
      "cell_type": "markdown",
      "source": [
        "## Conceptual Questions (10 points each)"
      ],
      "metadata": {
        "id": "IhQH-podTcDs"
      }
    },
    {
      "cell_type": "markdown",
      "source": [
        "Answer these questions as thoroughly as possible to receive full credit. 2-3 sentences should suffice."
      ],
      "metadata": {
        "id": "FxhrZuuvY2c2"
      }
    },
    {
      "cell_type": "markdown",
      "source": [
        "### Question 1"
      ],
      "metadata": {
        "id": "lTJ_Y8ElTi2l"
      }
    },
    {
      "cell_type": "markdown",
      "source": [
        "What is the difference between a true color composite and a false color composite? Be specific. If an example will best answer this question feel free to use one."
      ],
      "metadata": {
        "id": "lGyx7uG1YxFV"
      }
    },
    {
      "cell_type": "markdown",
      "source": [
        "*Double click to enter answer here*"
      ],
      "metadata": {
        "id": "0PfsKKV7ZhCX"
      }
    },
    {
      "cell_type": "markdown",
      "source": [
        "### Question 2"
      ],
      "metadata": {
        "id": "KVI1dgv_T_kT"
      }
    },
    {
      "cell_type": "markdown",
      "source": [
        "A color infrared composite image is a type of false color composite. Which bands are typically assigned to each color gun in this type of composite? Furthermore, explain the purpose behind this band combination."
      ],
      "metadata": {
        "id": "ed98nApKZtTO"
      }
    },
    {
      "cell_type": "markdown",
      "source": [
        "*Double click to enter answer here*"
      ],
      "metadata": {
        "id": "WhrnzZXWZtj6"
      }
    },
    {
      "cell_type": "markdown",
      "source": [
        "### Question 3"
      ],
      "metadata": {
        "id": "W6zYwTOgUCup"
      }
    },
    {
      "cell_type": "markdown",
      "source": [
        "In the basic color infrared composite (Landsat 4-3-2 or 4-2-1, Quickbird 4-2-1, SPOT 4-3-2), what do the red hues indicate? Why? Consider both how different materials reflect electromagnetic radiation and how colors are created for the display. Be specific."
      ],
      "metadata": {
        "id": "_yaf8I5GZuXL"
      }
    },
    {
      "cell_type": "markdown",
      "source": [
        "*Double click to enter answer here*"
      ],
      "metadata": {
        "id": "ApdYIp6uZuhW"
      }
    },
    {
      "cell_type": "markdown",
      "source": [
        "### Questions 4 (30 points)"
      ],
      "metadata": {
        "id": "UnGtmKU1UF98"
      }
    },
    {
      "cell_type": "markdown",
      "source": [
        "For each of the following subject areas, would you use true-color images or false-color for your visualization? Explain your choice in 2-3 sentences for each.\n",
        "\n",
        "\n",
        "1.   Precision Agriculture\n",
        "2.   Urban Planning\n",
        "3.   Reservoir Management\n",
        "\n"
      ],
      "metadata": {
        "id": "gD-8szm7Zu-v"
      }
    },
    {
      "cell_type": "markdown",
      "source": [
        "*Double click to enter answer here*"
      ],
      "metadata": {
        "id": "YHXwcVb_ZvHf"
      }
    },
    {
      "cell_type": "markdown",
      "source": [
        "## Requirements"
      ],
      "metadata": {
        "id": "KthltbrgQci2"
      }
    },
    {
      "cell_type": "markdown",
      "source": [
        "Before we get started, we need to make sure we have downloaded the required libraries and dependencies to run our code. Uncomment the two lines below and run them to do so."
      ],
      "metadata": {
        "id": "2TaOnc1kSZ_y"
      }
    },
    {
      "cell_type": "code",
      "execution_count": null,
      "metadata": {
        "id": "k4Y03D2T4Lv6"
      },
      "outputs": [],
      "source": [
        "#! pip install geemap"
      ]
    },
    {
      "cell_type": "code",
      "source": [
        "#! pip install pygis"
      ],
      "metadata": {
        "id": "dJfZ2cm5AsSb",
        "collapsed": true
      },
      "execution_count": null,
      "outputs": []
    },
    {
      "cell_type": "code",
      "source": [
        "import geemap\n",
        "import ee"
      ],
      "metadata": {
        "id": "U6DyIuZV4Om0"
      },
      "execution_count": null,
      "outputs": []
    },
    {
      "cell_type": "code",
      "source": [
        "ee.Authenticate()"
      ],
      "metadata": {
        "id": "bG1c50ze64Ak"
      },
      "execution_count": null,
      "outputs": []
    },
    {
      "cell_type": "code",
      "source": [
        "ee.Initialize(project='YOUR_PROJECT_NAME') # Replace 'YOUR_PROJECT_NAME' with the name of your earth engine cloud project"
      ],
      "metadata": {
        "id": "nSgoMuqd81R_"
      },
      "execution_count": null,
      "outputs": []
    },
    {
      "cell_type": "code",
      "source": [
        "geemap.ee_initialize()"
      ],
      "metadata": {
        "id": "MSUZ3GD-A0m6"
      },
      "execution_count": null,
      "outputs": []
    },
    {
      "cell_type": "markdown",
      "source": [
        "## Part 1: The Geemap Interface"
      ],
      "metadata": {
        "id": "SLzxIm77RkGh"
      }
    },
    {
      "cell_type": "code",
      "source": [
        "Map = geemap.Map()\n",
        "Map"
      ],
      "metadata": {
        "id": "znRH8vkYRq-4"
      },
      "execution_count": null,
      "outputs": []
    },
    {
      "cell_type": "code",
      "source": [
        "SRTM_Map = geemap.Map(center=[21.79, 70.87], zoom=3)\n",
        "image = ee.Image('USGS/SRTMGL1_003')\n",
        "vis_params = {\n",
        "    'min': 0,\n",
        "    'max': 6000,\n",
        "    'palette': ['006633', 'E5FFCC', '662A00', 'D8D8D8', 'F5F5F5'],\n",
        "}\n",
        "SRTM_Map.addLayer(image, vis_params, 'SRTM')\n",
        "SRTM_Map"
      ],
      "metadata": {
        "id": "d9tsCctn-63r",
        "collapsed": true
      },
      "execution_count": null,
      "outputs": []
    },
    {
      "cell_type": "markdown",
      "source": [
        "## Part 2: True-Color Visualization"
      ],
      "metadata": {
        "id": "nThXra_CRwFu"
      }
    },
    {
      "cell_type": "markdown",
      "source": [
        "In this lab, we will be using the [Sentinel-2](https://developers.google.com/earth-engine/datasets/catalog/COPERNICUS_S2_SR_HARMONIZED#description) dataset. It is always helpful to review the metadata in any dataset you are using, so look under the \"Bands\" and \"Image Properties\" tabs to familiarize yourself with this dataset."
      ],
      "metadata": {
        "id": "_mfiaVEyfMur"
      }
    },
    {
      "cell_type": "code",
      "source": [
        "collection = ee.ImageCollection('COPERNICUS/S2_SR')"
      ],
      "metadata": {
        "id": "mTtheTE1_y-x"
      },
      "execution_count": null,
      "outputs": []
    },
    {
      "cell_type": "code",
      "source": [
        "TC_Map = geemap.Map()\n",
        "collection = (\n",
        "    ee.ImageCollection('COPERNICUS/S2_SR')\n",
        "    .filterDate('2021-01-01', '2022-01-01')\n",
        "    .filter(ee.Filter.lt('CLOUDY_PIXEL_PERCENTAGE', 5))\n",
        ")\n",
        "image = collection.median()\n",
        "\n",
        "TCvis = {\n",
        "    'min': 0.0,\n",
        "    'max': 3000,\n",
        "    'bands': ['B4', 'B3', 'B2'],\n",
        "}\n",
        "\n",
        "TC_Map.setCenter(-83.96, 35.96, 12) # Knoxville Coordinates and 12 zoom\n",
        "TC_Map.addLayer(image, TCvis, 'True Color')\n",
        "TC_Map"
      ],
      "metadata": {
        "id": "XB1vUTmgBTa9"
      },
      "execution_count": null,
      "outputs": []
    },
    {
      "cell_type": "markdown",
      "source": [
        "## Part 3: False-Color Visualization"
      ],
      "metadata": {
        "id": "HkDap5K9Swpx"
      }
    },
    {
      "cell_type": "code",
      "source": [
        "FC_Map = geemap.Map()\n",
        "\n",
        "FCvis = {\n",
        "    'min': 0.0,\n",
        "    'max': 3000,\n",
        "    'bands': ['B8', 'B4', 'B3'],\n",
        "}\n",
        "\n",
        "FC_Map.setCenter(-83.96, 35.96, 12) # Knoxville Coordinates and 12 zoom\n",
        "FC_Map.addLayer(image, FCvis, 'NIR')\n",
        "\n",
        "FC_Map"
      ],
      "metadata": {
        "id": "bPxYigi9MtpE"
      },
      "execution_count": null,
      "outputs": []
    },
    {
      "cell_type": "markdown",
      "source": [
        "## Part 4: Clipping Images"
      ],
      "metadata": {
        "id": "TIXAZU71TNH-"
      }
    },
    {
      "cell_type": "markdown",
      "source": [
        "We will use the [TIGER US Census Counties](https://developers.google.com/earth-engine/datasets/catalog/TIGER_2018_Counties) dataset, which is available in Earth Engine Data Catalog to focus our image on a select area. Look under the \"Table Schema\" section to familiarize yourself with the data."
      ],
      "metadata": {
        "id": "zcmzw9PXcppP"
      }
    },
    {
      "cell_type": "code",
      "source": [
        "County_Map = geemap.Map(center=[39.82, -98.58], zoom=4)"
      ],
      "metadata": {
        "id": "VEY1yilF6uJl"
      },
      "execution_count": null,
      "outputs": []
    },
    {
      "cell_type": "code",
      "source": [
        "counties = ee.FeatureCollection('TIGER/2018/Counties')\n",
        "\n",
        "County_Map.addLayer(counties, {}, 'Counties')\n",
        "County_Map"
      ],
      "metadata": {
        "id": "TNv-m3iXeDeK",
        "collapsed": true
      },
      "execution_count": null,
      "outputs": []
    },
    {
      "cell_type": "code",
      "source": [
        "knox = counties.filter(ee.Filter.eq('NAME', 'Knox'))\n",
        "County_Map.addLayer(knox, {}, 'Knox')"
      ],
      "metadata": {
        "id": "Z4EF5toqCg8I"
      },
      "execution_count": null,
      "outputs": []
    },
    {
      "cell_type": "code",
      "source": [
        "knoxTN = knox.filter(ee.Filter.eq('STATEFP', '47'))\n",
        "County_Map.addLayer(knoxTN, {}, 'Knox TN')\n",
        "Map.centerObject(knoxTN, 10)"
      ],
      "metadata": {
        "id": "BkIhrkI4h_EW"
      },
      "execution_count": null,
      "outputs": []
    },
    {
      "cell_type": "code",
      "source": [
        "Clip_Map = geemap.Map()\n",
        "\n",
        "knoxTC = image.clipToCollection(knoxTN)\n",
        "Clip_Map.addLayer(knoxTC, TCvis, 'Knox TN TC')\n",
        "Clip_Map.centerObject(knoxTN, 10)\n",
        "\n",
        "Clip_Map"
      ],
      "metadata": {
        "id": "MSFSatEHjn1S"
      },
      "execution_count": null,
      "outputs": []
    },
    {
      "cell_type": "code",
      "source": [
        "knoxFC = image.clipToCollection(knoxTN)\n",
        "Clip_Map.addLayer(knoxFC, FCvis, 'Knox TN FC')\n",
        "Clip_Map.centerObject(knoxTN, 10)"
      ],
      "metadata": {
        "id": "VhjcNndgk_Ga",
        "colab": {
          "base_uri": "https://localhost:8080/",
          "height": 17
        },
        "outputId": "1b728ed2-6963-4df5-c946-5927b93d97be"
      },
      "execution_count": null,
      "outputs": [
        {
          "output_type": "display_data",
          "data": {
            "text/plain": [
              "<IPython.core.display.HTML object>"
            ],
            "text/html": [
              "\n",
              "            <style>\n",
              "                .geemap-dark {\n",
              "                    --jp-widgets-color: white;\n",
              "                    --jp-widgets-label-color: white;\n",
              "                    --jp-ui-font-color1: white;\n",
              "                    --jp-layout-color2: #454545;\n",
              "                    background-color: #383838;\n",
              "                }\n",
              "\n",
              "                .geemap-dark .jupyter-button {\n",
              "                    --jp-layout-color3: #383838;\n",
              "                }\n",
              "\n",
              "                .geemap-colab {\n",
              "                    background-color: var(--colab-primary-surface-color, white);\n",
              "                }\n",
              "\n",
              "                .geemap-colab .jupyter-button {\n",
              "                    --jp-layout-color3: var(--colab-primary-surface-color, white);\n",
              "                }\n",
              "            </style>\n",
              "            "
            ]
          },
          "metadata": {}
        }
      ]
    },
    {
      "cell_type": "markdown",
      "source": [
        "## Challenge Question! (40 Points)"
      ],
      "metadata": {
        "id": "9rRpbT6wTSx7"
      }
    },
    {
      "cell_type": "markdown",
      "source": [
        "Using the framework from this lab, create a true-color image and a false-color image of a state of your choosing. (Hint: Use the [TIGER US States](https://developers.google.com/earth-engine/datasets/catalog/TIGER_2018_States) dataset to clip your images.)"
      ],
      "metadata": {
        "id": "sKTTNsu6angK"
      }
    },
    {
      "cell_type": "code",
      "source": [],
      "metadata": {
        "id": "THtWDSBELUh_"
      },
      "execution_count": null,
      "outputs": []
    }
  ]
}
